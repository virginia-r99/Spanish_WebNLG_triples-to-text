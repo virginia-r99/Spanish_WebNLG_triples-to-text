{
 "cells": [
  {
   "cell_type": "code",
   "execution_count": null,
   "metadata": {},
   "outputs": [
    {
     "name": "stdout",
     "output_type": "stream",
     "text": [
      "Processing: Llama-32-1B-Instruct_few_shot_data_evaluate.json\n",
      "Processing: Llama-32-1B-Instruct_one_shot_data_evaluate.json\n",
      "Processing: Llama-32-1B-Instruct_zero_shot_data_evaluate.json\n",
      "Processing: Qwen25-05B-Instruct_few_shot_data_evaluate.json\n",
      "Processing: Qwen25-05B-Instruct_one_shot_data_evaluate.json\n"
     ]
    },
    {
     "name": "stderr",
     "output_type": "stream",
     "text": [
      "C:\\Users\\Vir\\AppData\\Local\\Temp\\ipykernel_16112\\570154947.py:33: FutureWarning: The behavior of DataFrame concatenation with empty or all-NA entries is deprecated. In a future version, this will no longer exclude empty or all-NA columns when determining the result dtypes. To retain the old behavior, exclude the relevant entries before the concat operation.\n",
      "  dataframe = pd.concat([dataframe, pd.DataFrame(temp)], ignore_index=True)\n"
     ]
    },
    {
     "name": "stdout",
     "output_type": "stream",
     "text": [
      "Processing: Qwen25-05B-Instruct_zero_shot_data_evaluate.json\n",
      "Processing: Qwen25-15B-Instruct_few_shot_data_evaluate.json\n",
      "Processing: Qwen25-15B-Instruct_one_shot_data_evaluate.json\n",
      "Processing: Qwen25-15B-Instruct_zero_shot_data_evaluate.json\n",
      "Processing: salamandra-2b-instruct_few_shot_data_evaluate.json\n",
      "Processing: salamandra-2b-instruct_one_shot_data_evaluate.json\n",
      "Processing: salamandra-2b-instruct_zero_shot_data_evaluate.json\n",
      "Evaluation results saved to 'mean_values_instruct.xlsx'.\n"
     ]
    }
   ],
   "source": [
    "import json\n",
    "import os\n",
    "import pandas as pd\n",
    "\n",
    "# Define the folders\n",
    "test = \"test_1\"\n",
    "folder_path = f\"../../results/context_learning/{test}\"  # Change this to your folder path\n",
    "\n",
    "# Define the column names\n",
    "metric_columns = ['BLEU', 'METEOR', \"CHRF++\", \"TER\", \"Cosine_Similarity\"]\n",
    "dataframe = pd.DataFrame(columns=['Model', 'Size'] + metric_columns)\n",
    "\n",
    "for filename in os.listdir(folder_path):\n",
    "    if filename.endswith(\".json\"):  # Ensure it's a JSON file\n",
    "        print(f\"Processing: {filename}\")\n",
    "        file_path = os.path.join(folder_path, filename)\n",
    "\n",
    "        # Open and load the JSON file\n",
    "        with open(file_path, 'r', encoding='utf-8') as file:\n",
    "            data = json.load(file)\n",
    "\n",
    "        model_name = filename.replace(\"_shot_data_evaluate.json\", \"\").replace(\"-R1-Distill\", \"\")\n",
    "        temp = []\n",
    "\n",
    "        for e in data:\n",
    "            size = e.get(\"size\", \"Unknown\")\n",
    "\n",
    "            # Evaluation metrics\n",
    "            eval_metrics = e.get(\"eval\", {})\n",
    "            eval_metrics[\"Model\"] = model_name\n",
    "            eval_metrics[\"Size\"] = size\n",
    "            temp.append(eval_metrics)\n",
    "\n",
    "        # Convert lists to DataFrame and concatenate to main DataFrame\n",
    "        dataframe = pd.concat([dataframe, pd.DataFrame(temp)], ignore_index=True)\n",
    "\n",
    "# Convert numeric columns from string to float (skip errors)\n",
    "for col in metric_columns:\n",
    "    dataframe[col] = pd.to_numeric(dataframe[col], errors='coerce')\n",
    "\n",
    "# Group by Model and Size to calculate mean values\n",
    "mean_values = dataframe.groupby(['Model', 'Size']).mean(numeric_only=True).reset_index()\n",
    "\n",
    "# Compute overall mean values per Model (ignoring size)\n",
    "model_avg = dataframe.groupby(['Model']).mean(numeric_only=True).reset_index()\n",
    "\n",
    "# Save evaluation results\n",
    "output_file = \"mean_values_instruct.xlsx\"\n",
    "with pd.ExcelWriter(output_file, engine='xlsxwriter') as writer:\n",
    "    mean_values.to_excel(writer, sheet_name=\"Evaluation\", index=False)\n",
    "    model_avg.to_excel(writer, sheet_name=\"Model_Averages\", index=False)\n",
    "\n",
    "print(f\"Evaluation results saved to '{output_file}'.\")\n"
   ]
  }
 ],
 "metadata": {
  "kernelspec": {
   "display_name": "Python 3",
   "language": "python",
   "name": "python3"
  },
  "language_info": {
   "codemirror_mode": {
    "name": "ipython",
    "version": 3
   },
   "file_extension": ".py",
   "mimetype": "text/x-python",
   "name": "python",
   "nbconvert_exporter": "python",
   "pygments_lexer": "ipython3",
   "version": "3.11.9"
  }
 },
 "nbformat": 4,
 "nbformat_minor": 2
}
